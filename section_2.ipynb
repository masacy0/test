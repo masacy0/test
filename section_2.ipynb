{
 "cells": [
  {
   "cell_type": "code",
   "execution_count": 7,
   "metadata": {
    "collapsed": false
   },
   "outputs": [
    {
     "name": "stdout",
     "output_type": "stream",
     "text": [
      "AND(0, 0) = 0\n",
      "AND(0, 1) = 0\n",
      "AND(1, 0) = 0\n",
      "AND(1, 1) = 1\n"
     ]
    }
   ],
   "source": [
    "def AND (x1, x2):\n",
    "    w1, w2, theta = 0.5, 0.5, 0.7\n",
    "    tmp = x1*w1 + x2*w2\n",
    "    if tmp <= theta:\n",
    "        return 0\n",
    "    elif tmp > theta:\n",
    "        return 1\n",
    "\n",
    "print (\"AND(0, 0) = \"+\"{0}\".format(AND(0, 0)))\n",
    "print (\"AND(0, 1) = \"+\"{0}\".format(AND(0, 1)))\n",
    "print (\"AND(1, 0) = \"+\"{0}\".format(AND(1, 0)))\n",
    "print (\"AND(1, 1) = \"+\"{0}\".format(AND(1, 1)))\n"
   ]
  },
  {
   "cell_type": "code",
   "execution_count": 14,
   "metadata": {
    "collapsed": false
   },
   "outputs": [
    {
     "name": "stdout",
     "output_type": "stream",
     "text": [
      "AND(0, 0) = 0\n",
      "AND(0, 1) = 0\n",
      "AND(1, 0) = 0\n",
      "AND(1, 1) = 1\n",
      "NAND(0, 0) = 1\n",
      "NAND(0, 1) = 1\n",
      "NAND(1, 0) = 1\n",
      "NAND(1, 1) = 0\n",
      "OR(0, 0) = 0\n",
      "OR(0, 1) = 1\n",
      "OR(1, 0) = 1\n",
      "OR(1, 1) = 1\n",
      "XOR(0, 0) = 0\n",
      "XOR(0, 1) = 1\n",
      "XOR(1, 0) = 1\n",
      "XOR(1, 1) = 0\n"
     ]
    }
   ],
   "source": [
    "import numpy as np\n",
    "def AND (x1, x2):\n",
    "    x = np.array([x1, x2])\n",
    "    w = np.array([0.5, 0.5])\n",
    "    b = -0.7\n",
    "    tmp = np.sum(w*x) + b\n",
    "    if tmp <= 0:\n",
    "        return 0\n",
    "    elif tmp > 0:\n",
    "        return 1\n",
    "def NAND (x1, x2):\n",
    "    x = np.array([x1, x2])\n",
    "    w = np.array([-0.5, -0.5])\n",
    "    b = 0.7\n",
    "    tmp = np.sum(w*x) + b\n",
    "    if tmp <= 0:\n",
    "        return 0\n",
    "    elif tmp > 0:\n",
    "        return 1\n",
    "def OR (x1, x2):\n",
    "    x = np.array([x1, x2])\n",
    "    w = np.array([0.5, 0.5])\n",
    "    b = -0.2\n",
    "    tmp = np.sum(w*x) + b\n",
    "    if tmp <= 0:\n",
    "        return 0\n",
    "    elif tmp > 0:\n",
    "        return 1\n",
    "def XOR (x1, x2):\n",
    "    s1 = NAND(x1, x2)\n",
    "    s2 = OR(x1, x2)\n",
    "    y = AND(s1, s2)\n",
    "    return y\n",
    "print (\"AND(0, 0) = \"+\"{0}\".format(AND(0, 0)))\n",
    "print (\"AND(0, 1) = \"+\"{0}\".format(AND(0, 1)))\n",
    "print (\"AND(1, 0) = \"+\"{0}\".format(AND(1, 0)))\n",
    "print (\"AND(1, 1) = \"+\"{0}\".format(AND(1, 1)))\n",
    "print (\"NAND(0, 0) = \"+\"{0}\".format(NAND(0, 0)))\n",
    "print (\"NAND(0, 1) = \"+\"{0}\".format(NAND(0, 1)))\n",
    "print (\"NAND(1, 0) = \"+\"{0}\".format(NAND(1, 0)))\n",
    "print (\"NAND(1, 1) = \"+\"{0}\".format(NAND(1, 1)))\n",
    "print (\"OR(0, 0) = \"+\"{0}\".format(OR(0, 0)))\n",
    "print (\"OR(0, 1) = \"+\"{0}\".format(OR(0, 1)))\n",
    "print (\"OR(1, 0) = \"+\"{0}\".format(OR(1, 0)))\n",
    "print (\"OR(1, 1) = \"+\"{0}\".format(OR(1, 1)))\n",
    "print (\"XOR(0, 0) = \"+\"{0}\".format(XOR(0, 0)))\n",
    "print (\"XOR(0, 1) = \"+\"{0}\".format(XOR(0, 1)))\n",
    "print (\"XOR(1, 0) = \"+\"{0}\".format(XOR(1, 0)))\n",
    "print (\"XOR(1, 1) = \"+\"{0}\".format(XOR(1, 1)))"
   ]
  },
  {
   "cell_type": "code",
   "execution_count": null,
   "metadata": {
    "collapsed": true
   },
   "outputs": [],
   "source": []
  }
 ],
 "metadata": {
  "anaconda-cloud": {},
  "kernelspec": {
   "display_name": "Python [conda root]",
   "language": "python",
   "name": "conda-root-py"
  },
  "language_info": {
   "codemirror_mode": {
    "name": "ipython",
    "version": 3
   },
   "file_extension": ".py",
   "mimetype": "text/x-python",
   "name": "python",
   "nbconvert_exporter": "python",
   "pygments_lexer": "ipython3",
   "version": "3.5.2"
  }
 },
 "nbformat": 4,
 "nbformat_minor": 2
}
